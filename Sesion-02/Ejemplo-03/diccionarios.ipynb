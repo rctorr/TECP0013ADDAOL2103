{
 "cells": [
  {
   "cell_type": "markdown",
   "metadata": {},
   "source": [
    "## Ejemplo 3: Creando y accesando diccionarios\n",
    "\n",
    "### 1. Objetivos:\n",
    "    - Aprender a crear diccionarios con pares llaves-valor\n",
    "    - Aprender a acceder a los valores guardados en el diccionario\n",
    "    \n",
    "---\n",
    "    \n",
    "### 2. Desarrollo:"
   ]
  },
  {
   "cell_type": "markdown",
   "metadata": {},
   "source": [
    "Los diccionarios se definen usando llaves (`{}`), a continuación crea un diccionario vacío."
   ]
  },
  {
   "cell_type": "code",
   "execution_count": 2,
   "metadata": {},
   "outputs": [
    {
     "data": {
      "text/plain": [
       "{}"
      ]
     },
     "execution_count": 2,
     "metadata": {},
     "output_type": "execute_result"
    }
   ],
   "source": [
    "diccionario_1 = {}\n",
    "diccionario_1"
   ]
  },
  {
   "cell_type": "markdown",
   "metadata": {},
   "source": [
    "Para incluir datos dentro de un diccionario, tenemos que agregar pares llave-valor dentro de las llaves, cada par llave-valor se separa con una coma:\n",
    "\n",
    "```\n",
    "diccionario = {\n",
    "    \"llave_1\": \"valor_1\",\n",
    "    \"llave_2\": \"valor_2\",\n",
    "    \"llave_3\": \"valor_3\",\n",
    "    \"llave_4\": \"valor_4\"\n",
    "}\n",
    "```\n",
    "Nuestras llaves pueden ser tanto `strings` como `ints` (pueden ser otras cosas, pero estos son los más comunes), lo valores puede ser cualquier tipo de datos permitido en Python."
   ]
  },
  {
   "cell_type": "markdown",
   "metadata": {},
   "source": [
    "Ahora crea un diccionario con la siguiente tabla de llaves y valores:\n",
    "\n",
    "| Llave | Valor |\n",
    "| ----- | ----- |\n",
    "| 1 | Uno |\n",
    "| 2 | Dos |\n",
    "| 3 | Tres |\n",
    "| 4 | Cuatro |\n"
   ]
  },
  {
   "cell_type": "code",
   "execution_count": 3,
   "metadata": {},
   "outputs": [
    {
     "data": {
      "text/plain": [
       "{1: 'Uno', 2: 'Dos', 3: 'Tres', 4: 'Cuatro'}"
      ]
     },
     "execution_count": 3,
     "metadata": {},
     "output_type": "execute_result"
    }
   ],
   "source": [
    "diccionario_2 = {\n",
    "    1: \"Uno\",\n",
    "    2: \"Dos\",\n",
    "    3: \"Tres\",\n",
    "    4: \"Cuatro\"\n",
    "}\n",
    "diccionario_2"
   ]
  },
  {
   "cell_type": "markdown",
   "metadata": {},
   "source": [
    "Ahora crea otro diccionario en la variable `mascota` con la información de las siguientes tablas de llaves y valores:\n",
    "\n",
    "Mi Mascota\n",
    "\n",
    "| Llave | Valor |\n",
    "| ----- | ----- |\n",
    "| nombre | Contraseña |\n",
    "| edad | 2 años |\n",
    "| peso | 2.5 kg |\n",
    "| es_fotogenica | Si |\n",
    "| tipo | Gato |\n",
    "| alimentos_favoritos | Leche, Huesos, Leche con pan, Atún |\n",
    "\n",
    "\n",
    "Rasgos\n",
    "\n",
    "| Llave | Valor |\n",
    "| ----- | ----- |\n",
    "| Color | Café, blanco y negro |\n",
    "| Ojo | Azul aperlados |\n",
    "| Raza | Siamés |"
   ]
  },
  {
   "cell_type": "code",
   "execution_count": 7,
   "metadata": {},
   "outputs": [],
   "source": [
    "mascota = {\n",
    "    \"nombre\": \"Contraseña\",\n",
    "    \"edad\": 2,\n",
    "    \"peso\": 2.5,\n",
    "    \"es_fotogenica\": True,\n",
    "    \"tipo\": \"Gato\",\n",
    "    \"alimentos_favoritos\": [\"Leche\", \"Huesos\", \"Leche con pan\", \"Atún\"],\n",
    "    \"rasgos\": {\n",
    "        \"Color\": \"Café, blanco y negro\",\n",
    "        \"Ojos\": \"Azul aperlados\",\n",
    "        \"Raza\": \"Siamés\"\n",
    "    }\n",
    "}"
   ]
  },
  {
   "cell_type": "markdown",
   "metadata": {},
   "source": [
    "Acceder a un diccionario es tan fácil como escribir el nombre del diccionario, agregar corchetes (`[]`) y pasarle el nombre de la llave que quieres acceder. Por obvias razones, un diccionario no puede tener más de una llave con el mismo nombre.\n",
    "\n",
    "Imprime el nombre de la mascota, edad y primer alimento favorito, has uso de la función `print()`."
   ]
  },
  {
   "cell_type": "code",
   "execution_count": 10,
   "metadata": {},
   "outputs": [
    {
     "name": "stdout",
     "output_type": "stream",
     "text": [
      "Contraseña\n",
      "2\n",
      "Leche\n"
     ]
    }
   ],
   "source": [
    "print(mascota[\"nombre\"])\n",
    "print(mascota[\"edad\"])\n",
    "print(mascota[\"alimentos_favoritos\"][0])"
   ]
  },
  {
   "cell_type": "markdown",
   "metadata": {},
   "source": [
    "Ahora imprime alguno de los rasgos:"
   ]
  },
  {
   "cell_type": "code",
   "execution_count": 20,
   "metadata": {},
   "outputs": [
    {
     "data": {
      "text/plain": [
       "'Azul aperlados Café, blanco y negro'"
      ]
     },
     "execution_count": 20,
     "metadata": {},
     "output_type": "execute_result"
    }
   ],
   "source": [
    "mascota[\"rasgos\"][\"Ojos\"] + \" \" + mascota[\"rasgos\"][\"Color\"]"
   ]
  },
  {
   "cell_type": "markdown",
   "metadata": {},
   "source": [
    "¡Practiquemos ahora un poco más en nuestro tercer Reto de la sesión!\n",
    "\n",
    "---"
   ]
  },
  {
   "cell_type": "markdown",
   "metadata": {},
   "source": [
    "## Reto 3: Creando y accesando diccionarios\n",
    "\n",
    "### 1. Objetivos:\n",
    "    - Entender cómo crear diccionarios y cómo acceder a ellos\n",
    " \n",
    "---\n",
    "    \n",
    "### 2. Desarrollo:"
   ]
  },
  {
   "cell_type": "markdown",
   "metadata": {},
   "source": [
    "Debajo hemos definido un diccionario. Este diccionario se encuentra incompleto, aunque no lo parezca:"
   ]
  },
  {
   "cell_type": "code",
   "execution_count": 1,
   "metadata": {},
   "outputs": [],
   "source": [
    "ventas_mensuales = {\n",
    "    \"fecha_de_corte\": \"01/05/2020\",\n",
    "    \"unidad\": \"Aragón\",\n",
    "    # Tu código va aquí\n",
    "    #...\n",
    "}"
   ]
  },
  {
   "cell_type": "markdown",
   "metadata": {},
   "source": [
    "Debajo tenemos algunos procedimientos que han sido realizados utilizando este diccionario. Como puedes ver, algunos de los accesos que se están haciendo van a fallar porque el diccionario `ventas_mensuales` no está completo:"
   ]
  },
  {
   "cell_type": "code",
   "execution_count": 19,
   "metadata": {},
   "outputs": [
    {
     "ename": "NameError",
     "evalue": "name 'ventas_mensuales' is not defined",
     "output_type": "error",
     "traceback": [
      "\u001b[0;31m---------------------------------------------------------------------------\u001b[0m",
      "\u001b[0;31mNameError\u001b[0m                                 Traceback (most recent call last)",
      "\u001b[0;32m<ipython-input-19-c45ea03d1f21>\u001b[0m in \u001b[0;36m<module>\u001b[0;34m\u001b[0m\n\u001b[0;32m----> 1\u001b[0;31m \u001b[0mventas_totales_de_insumos\u001b[0m \u001b[0;34m=\u001b[0m \u001b[0mventas_mensuales\u001b[0m\u001b[0;34m[\u001b[0m\u001b[0;34m\"ventas_pasteleria\"\u001b[0m\u001b[0;34m]\u001b[0m \u001b[0;34m+\u001b[0m \u001b[0mventas_mensuales\u001b[0m\u001b[0;34m[\u001b[0m\u001b[0;34m\"ventas_panaderia\"\u001b[0m\u001b[0;34m]\u001b[0m\u001b[0;34m\u001b[0m\u001b[0;34m\u001b[0m\u001b[0m\n\u001b[0m\u001b[1;32m      2\u001b[0m \u001b[0mganancias_totales\u001b[0m \u001b[0;34m=\u001b[0m \u001b[0mventas_mensuales\u001b[0m\u001b[0;34m[\u001b[0m\u001b[0;34m\"ganancias_pasteleria\"\u001b[0m\u001b[0;34m]\u001b[0m \u001b[0;34m+\u001b[0m \u001b[0mventas_mensuales\u001b[0m\u001b[0;34m[\u001b[0m\u001b[0;34m\"ganancias_panaderia\"\u001b[0m\u001b[0;34m]\u001b[0m\u001b[0;34m\u001b[0m\u001b[0;34m\u001b[0m\u001b[0m\n\u001b[1;32m      3\u001b[0m \u001b[0mganancias_netas\u001b[0m \u001b[0;34m=\u001b[0m \u001b[0mganancias_totales\u001b[0m \u001b[0;34m-\u001b[0m \u001b[0mventas_mensuales\u001b[0m\u001b[0;34m[\u001b[0m\u001b[0;34m\"gastos_mensuales_totales\"\u001b[0m\u001b[0;34m]\u001b[0m\u001b[0;34m\u001b[0m\u001b[0;34m\u001b[0m\u001b[0m\n\u001b[1;32m      4\u001b[0m \u001b[0;34m\u001b[0m\u001b[0m\n\u001b[1;32m      5\u001b[0m \u001b[0mprint\u001b[0m\u001b[0;34m(\u001b[0m\u001b[0;34mf'==Resumen de ventas mensuales de la unidad {ventas_mensuales[\"unidad\"]}==/n'\u001b[0m\u001b[0;34m)\u001b[0m\u001b[0;34m\u001b[0m\u001b[0;34m\u001b[0m\u001b[0m\n",
      "\u001b[0;31mNameError\u001b[0m: name 'ventas_mensuales' is not defined"
     ]
    }
   ],
   "source": [
    "ventas_totales_de_insumos = ventas_mensuales[\"ventas_pasteleria\"] + ventas_mensuales[\"ventas_panaderia\"]\n",
    "ganancias_totales = ventas_mensuales[\"ganancias_pasteleria\"] + ventas_mensuales[\"ganancias_panaderia\"]\n",
    "ganancias_netas = ganancias_totales - ventas_mensuales[\"gastos_mensuales_totales\"]\n",
    "\n",
    "print(f'==Resumen de ventas mensuales de la unidad {ventas_mensuales[\"unidad\"]}==/n')\n",
    "print(f'Fecha de corte: {ventas_mensuales[\"fecha_de_corte\"]}/n')\n",
    "print(f'  - Ventas totales de insumos: {ventas_totales_de_insumos}')\n",
    "print(f'  - Ganancias totales: {ganancias_totales}')\n",
    "print(f'  - Ganancias netas: {ganancias_netas}')\n",
    "print(f'\\n')\n",
    "print(f'(Información recabada por: {ventas_mensuales[\"analista\"]})')"
   ]
  },
  {
   "cell_type": "markdown",
   "metadata": {},
   "source": [
    "Completa el diccionario `ventas_mensuales` para que el código que imprime el resumen de las ventas funcione correctamente."
   ]
  }
 ],
 "metadata": {
  "kernelspec": {
   "display_name": "Python 3",
   "language": "python",
   "name": "python3"
  },
  "language_info": {
   "codemirror_mode": {
    "name": "ipython",
    "version": 3
   },
   "file_extension": ".py",
   "mimetype": "text/x-python",
   "name": "python",
   "nbconvert_exporter": "python",
   "pygments_lexer": "ipython3",
   "version": "3.7.4"
  }
 },
 "nbformat": 4,
 "nbformat_minor": 4
}
