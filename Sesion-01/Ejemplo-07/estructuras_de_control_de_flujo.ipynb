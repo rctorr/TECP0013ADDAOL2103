{
 "cells": [
  {
   "cell_type": "markdown",
   "metadata": {},
   "source": [
    "## Ejemplo 7: Estructuras de control de flujo\n",
    "\n",
    "### 1. Objetivos:\n",
    "    - Conocer las estructuras de control, cómo funcionan y para qué sirven\n",
    " \n",
    "---\n",
    "    \n",
    "### 2. Desarrollo:"
   ]
  },
  {
   "cell_type": "markdown",
   "metadata": {},
   "source": [
    "Queremos darle a nuestro programa la capacidad de tomar decisiones. Esto puede hacerse usando una `sentencia if`. Una `sentencia if` usa una comparación para obtener un booleano. Si el booleano es `True`, el bloque de la sentencia se corre. Si el booleano es `False` nos saltamos a lo que sigue después del bloque."
   ]
  },
  {
   "cell_type": "code",
   "execution_count": 7,
   "metadata": {},
   "outputs": [],
   "source": [
    "var_1 = 4\n",
    "var_2 = 5"
   ]
  },
  {
   "cell_type": "markdown",
   "metadata": {},
   "source": [
    "Vamos ejecutar la instrucción `print(\"Bloque 1 de código ejecutado\")` sólo si el valor de `var_1` es menor que el de `var_2`"
   ]
  },
  {
   "cell_type": "code",
   "execution_count": 2,
   "metadata": {},
   "outputs": [
    {
     "name": "stdout",
     "output_type": "stream",
     "text": [
      "Bloque 1 de código ejecutado\n"
     ]
    }
   ],
   "source": [
    "if var_1 < var_2:\n",
    "    print(\"Bloque 1 de código ejecutado\")"
   ]
  },
  {
   "cell_type": "markdown",
   "metadata": {},
   "source": [
    "Ahora vamos ejecutar la instrucción `print(\"Bloque 1 de código ejecutado\")` sólo si el valor de `var_1` es mayor que el de `var_2` pero siempre vamos a ejecutar la instrucción `print(\"Bloque 2 de código ejecutado\")`"
   ]
  },
  {
   "cell_type": "code",
   "execution_count": 9,
   "metadata": {},
   "outputs": [
    {
     "name": "stdout",
     "output_type": "stream",
     "text": [
      "Bloque 2 de código ejecutado\n",
      "Bloque 2 de código ejecutado\n"
     ]
    }
   ],
   "source": [
    "if var_1 > var_2:\n",
    "    print(\"Bloque 1 de código ejecutado\")\n",
    "    print(\"Bloque 1 de código ejecutado\")\n",
    "    print(\"Bloque 1 de código ejecutado\")\n",
    "print(\"Bloque 2 de código ejecutado\")\n",
    "print(\"Bloque 2 de código ejecutado\")"
   ]
  },
  {
   "cell_type": "markdown",
   "metadata": {},
   "source": [
    "Hay veces que queremos tener una acción `default`, que queremos que suceda en caso de que la comparación sea `False`. Para eso podemos usar una sentencia `else`. Piénsalo como preguntarse a uno mismo: \"Si meto mi mano a la bolsa y resulta que encuentro un billete de $50, me compro unos nachos; si no hay nada, veré la película llorando de tristeza\".\n",
    "\n",
    "Implementamos la acción `default` así, queremos ejecutar la instrucción `print(\"Bloque 1\")` si `var_1` es mayor que `var_2` y en caso contrario ejecutar la instrucción `print(\"Bloque 2\")`."
   ]
  },
  {
   "cell_type": "code",
   "execution_count": 13,
   "metadata": {},
   "outputs": [
    {
     "name": "stdout",
     "output_type": "stream",
     "text": [
      "Bloque 1 de código ejecutado\n",
      "Bloque 1 de código ejecutado\n",
      "Bloque 1 de código ejecutado\n",
      "Bloque 3 de código ejecutado\n",
      "Bloque 3 de código ejecutado\n"
     ]
    }
   ],
   "source": [
    "var_1 = 6\n",
    "var_2 = 5\n",
    "\n",
    "if var_1 > var_2:\n",
    "    print(\"Bloque 1 de código ejecutado\")\n",
    "    print(\"Bloque 1 de código ejecutado\")\n",
    "    print(\"Bloque 1 de código ejecutado\")\n",
    "else:\n",
    "    # cuando la condición es falsa\n",
    "    print(\"Bloque 2 de código ejecutado\")\n",
    "    print(\"Bloque 2 de código ejecutado\")\n",
    "print(\"Bloque 3 de código ejecutado\")\n",
    "print(\"Bloque 3 de código ejecutado\")"
   ]
  },
  {
   "cell_type": "markdown",
   "metadata": {},
   "source": [
    "Si queremos que haya más de dos opciones, podemos agregar opciones usando la sentencia `elif` lo que permite anidar instrucciones if y crear muchas alternativas."
   ]
  },
  {
   "cell_type": "code",
   "execution_count": 17,
   "metadata": {},
   "outputs": [
    {
     "name": "stdout",
     "output_type": "stream",
     "text": [
      "Eres un sabio!\n",
      "Bienvenid@\n"
     ]
    }
   ],
   "source": [
    "edad = 60\n",
    "if edad < 18:\n",
    "    print(\"Eres menor de edad, ve a jugar!\")\n",
    "elif edad < 30:  #  18 <= edad < 30\n",
    "    print(\"Dame tu nip de la tarjeta de crédito\")\n",
    "elif edad < 50:  #  30 <= edad < 50\n",
    "    print(\"Dame tu número de hijos\")\n",
    "else:  # 50 <= edad\n",
    "    print(\"Eres un sabio!\")\n",
    "print(\"Bienvenid@\")"
   ]
  },
  {
   "cell_type": "markdown",
   "metadata": {},
   "source": [
    "¡Vayamos al último reto de la sesión!"
   ]
  },
  {
   "cell_type": "markdown",
   "metadata": {},
   "source": [
    "## Reto 7: Estructuras de control de flujo\n",
    "\n",
    "### 1. Objetivos:\n",
    "    - Entender el funcionamiento de las estructuras de control de flujo a través de un reto\n",
    " \n",
    "---\n",
    "    \n",
    "### 2. Desarrollo:"
   ]
  },
  {
   "cell_type": "markdown",
   "metadata": {},
   "source": [
    "#### 1. Comparaciones numéricas\n",
    "\n",
    "Vamos a imaginar que estamos analizando un conjunto de datos que contiene las ventas anuales en pesos de unos vendedores que trabajan en nuestra empresa. Obtenemos el total de ventas anuales en pesos y lo tenemos asignado a la variable `ventas_anuales_totales`. Escribe una estructura de control que nos diga de cuánto va a ser el bono de nuestro empleado.\n",
    "\n",
    "Si las ventas son mayores a `$`1,000,000 el bono será de 20% del sueldo; si son entre `$`700,000 y `$`1,000,000 el bono será de 15% del sueldo; entre `$`400,000 y `$`700,000 el bono será de 10% del sueldo; entre `$`100,000 y 400,000 el bono será de 5% del sueldo; y debajo de `$`100,000 el bono será del 1% del sueldo.\n",
    "\n",
    "Escribe tu estructura de control y, por ahora (más adelante tendremos más herramientas para hacer esto más interesante) imprime una string que diga de cuánto va a ser el bono.\n",
    "\n",
    "> Reto opcional: Agrega una variable `sueldo` que sea el sueldo de tu empleado y agrégale el porcentaje de bono a esa variable dependiendo de la condición que se cumpla. Después hasta el final imprime una string interpolada que diga algo como \"Felicidades, tu sueldo es x; tu bono es de x; y el total de sueldo con el bono incluido es de x\". ¡Para que esto funcione también debes de agregar una variable donde guardes la cantidad del bono!\n",
    "\n",
    "Tip: Instrucciones a utilizar `if`, `elif`, `else`, `variables`, `print()`, `f-strings`"
   ]
  },
  {
   "cell_type": "code",
   "execution_count": null,
   "metadata": {},
   "outputs": [],
   "source": [
    "ventas_anuales_totales = # Este valor lo puedes cambiar para obtener diferentes resultados\n",
    "\n",
    "# OPCIONAL\n",
    "# sueldo = escribe aquí el suelo de tu empleado"
   ]
  },
  {
   "cell_type": "code",
   "execution_count": null,
   "metadata": {},
   "outputs": [],
   "source": [
    "# Escribe aquí tu código\n",
    "# ...\n",
    "# ..."
   ]
  },
  {
   "cell_type": "code",
   "execution_count": null,
   "metadata": {},
   "outputs": [],
   "source": []
  }
 ],
 "metadata": {
  "kernelspec": {
   "display_name": "Python 3",
   "language": "python",
   "name": "python3"
  },
  "language_info": {
   "codemirror_mode": {
    "name": "ipython",
    "version": 3
   },
   "file_extension": ".py",
   "mimetype": "text/x-python",
   "name": "python",
   "nbconvert_exporter": "python",
   "pygments_lexer": "ipython3",
   "version": "3.7.4"
  }
 },
 "nbformat": 4,
 "nbformat_minor": 4
}
