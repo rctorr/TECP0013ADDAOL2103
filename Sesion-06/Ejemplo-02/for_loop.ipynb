{
 "cells": [
  {
   "cell_type": "markdown",
   "metadata": {},
   "source": [
    "## Ejemplo 2: Ciclo For\n",
    "\n",
    "### 1. Objetivos:\n",
    "    - Aprender a usar `ciclos for` para luego poder automatizar procesos\n",
    " \n",
    "### 2. Desarrollo:"
   ]
  },
  {
   "cell_type": "markdown",
   "metadata": {},
   "source": [
    "Los `ciclos for` nos ayudan a automatizar procesos. Básicamente definimos primero sobre qué queremos iterar (o repetir), después definimos una variable (o variables) que van a recibir cada valor de la iteración y luego tenemos el bloque del `for`, que es donde realizamos los procesos a automatizar.\n",
    "\n",
    "Primero vamos a imprimir cada elemento de la lista `[0, 1, 2, 3, 4]` usando `for` y `print()`:"
   ]
  },
  {
   "cell_type": "code",
   "execution_count": 8,
   "metadata": {},
   "outputs": [
    {
     "name": "stdout",
     "output_type": "stream",
     "text": [
      "0\n",
      "1\n",
      "2\n",
      "3\n",
      "4\n"
     ]
    }
   ],
   "source": [
    "for x in [0, 1, 2, 3, 4]:\n",
    "    print(x)"
   ]
  },
  {
   "cell_type": "markdown",
   "metadata": {},
   "source": [
    "Ahora usaremos `range(5)` para generar la misma lista en lugar de escribirla de forma explícita, así que el `for` queda de la siguiente manera:"
   ]
  },
  {
   "cell_type": "code",
   "execution_count": 11,
   "metadata": {},
   "outputs": [
    {
     "name": "stdout",
     "output_type": "stream",
     "text": [
      "1\n",
      "2\n",
      "3\n",
      "4\n",
      "5\n"
     ]
    }
   ],
   "source": [
    "for x in range(1, 6):\n",
    "    print(x)"
   ]
  },
  {
   "cell_type": "markdown",
   "metadata": {},
   "source": [
    "En este punto, vamos a crear una lista de los primeros 50 enteros, pero vamos a construir o llenar la lista usando `for` y la función `append()` y luego imprimimos toda la lista usando `print()`, éste proceso de ir construyendo una lista elemento a elemento es muy común, así que toma nota!"
   ]
  },
  {
   "cell_type": "code",
   "execution_count": 12,
   "metadata": {},
   "outputs": [
    {
     "name": "stdout",
     "output_type": "stream",
     "text": [
      "[0, 1, 2, 3, 4, 5, 6, 7, 8, 9, 10, 11, 12, 13, 14, 15, 16, 17, 18, 19, 20, 21, 22, 23, 24, 25, 26, 27, 28, 29, 30, 31, 32, 33, 34, 35, 36, 37, 38, 39, 40, 41, 42, 43, 44, 45, 46, 47, 48, 49]\n"
     ]
    }
   ],
   "source": [
    "# 1. Creamos una variable con una lista vacía llamada \"numeros\"\n",
    "# 2. Usamos \"range()\" para generar los números que necesitamos\n",
    "#    y for para ir tomando de uno a uno.\n",
    "# 3.     Usando \"append()\" para ir agregando cada elemento a la lista \"numeros\"\n",
    "# 4.     Regresar al paso 2\n",
    "numeros = []\n",
    "for i in range(50):\n",
    "    numeros.append(i)\n",
    "\n",
    "print(numeros)"
   ]
  },
  {
   "cell_type": "markdown",
   "metadata": {},
   "source": [
    "A veces el uso de `for` y `range()` sólo se usan para contar el número de veces a realizar un bloque de instrucciones, pero el valor obtenido de `range()` no se usa en las operaciones, por ejemplo vamos crear una nueva lista de los números enteros en el rango de 150 al 170 incluyendo ambos extremos:"
   ]
  },
  {
   "cell_type": "code",
   "execution_count": 13,
   "metadata": {},
   "outputs": [
    {
     "name": "stdout",
     "output_type": "stream",
     "text": [
      "[150, 151, 152, 153, 154, 155, 156, 157, 158, 159, 160, 161, 162, 163, 164, 165, 166, 167, 168, 169, 170]\n"
     ]
    }
   ],
   "source": [
    "# 1. Creamos una variable con una lista vacía llamada \"numeros\"\n",
    "# 2. Creamos una variable x con el valor inicial del rango 150\n",
    "# 3. Usamos \"range()\" para generar una serie de repeticiones junto con for\n",
    "# 4.     Usando \"append()\" para agregar x a la lista \"numeros\"\n",
    "# 5.     Incrementamos el valor de x en 1\n",
    "# 6.     regresar al paso 3\n",
    "numeros = []\n",
    "x = 150\n",
    "for i in range(21):  # for(i=0; i<21; i++)\n",
    "    numeros.append(x)\n",
    "    x += 1 # x = x + 1, += operador de incremento\n",
    "\n",
    "print(numeros)"
   ]
  },
  {
   "cell_type": "markdown",
   "metadata": {},
   "source": [
    "Ahora un caso con un diccionario, vamos a imprimir la lista de sólo las llaves usando `for` y la función `diccionario.keys()`:"
   ]
  },
  {
   "cell_type": "code",
   "execution_count": 14,
   "metadata": {},
   "outputs": [],
   "source": [
    "dict_1 = {\n",
    "    'a': 1,\n",
    "    'b': 2,\n",
    "    'c': 3,\n",
    "    'd': 4,\n",
    "    'e': 5\n",
    "}"
   ]
  },
  {
   "cell_type": "code",
   "execution_count": 15,
   "metadata": {},
   "outputs": [
    {
     "name": "stdout",
     "output_type": "stream",
     "text": [
      "a\n",
      "b\n",
      "c\n",
      "d\n",
      "e\n"
     ]
    }
   ],
   "source": [
    "for k in dict_1.keys():\n",
    "    print(k)"
   ]
  },
  {
   "cell_type": "code",
   "execution_count": 16,
   "metadata": {},
   "outputs": [
    {
     "name": "stdout",
     "output_type": "stream",
     "text": [
      "a 1\n",
      "b 2\n",
      "c 3\n",
      "d 4\n",
      "e 5\n"
     ]
    }
   ],
   "source": [
    "for k in dict_1:\n",
    "    print(k, dict_1[k])"
   ]
  },
  {
   "cell_type": "markdown",
   "metadata": {},
   "source": [
    "---\n",
    "---"
   ]
  },
  {
   "cell_type": "markdown",
   "metadata": {},
   "source": [
    "## Reto 2: Automatizando con `ciclos for`\n",
    "\n",
    "### 1. Objetivos:\n",
    "    - Automatizar un proceso sencillo usando `for`\n",
    " \n",
    "### 2. Desarrollo:"
   ]
  },
  {
   "cell_type": "markdown",
   "metadata": {},
   "source": [
    "### a) Potencias de 2\n",
    "\n",
    "Las potencias de 2 son sumamente importantes en el mundo computacional. Dado que las computadoras trabajan con lenguaje binario, gran parte del funcionamiento interno de las computadoras funciona con potencias de 2. He aquí una pequeña muestra de las primeras potencias de 2:\n",
    "\n",
    "- 2<sup>0</sup> = 1\n",
    "- 2<sup>1</sup> = 2\n",
    "- 2<sup>2</sup> = 4\n",
    "- 2<sup>3</sup> = 8\n",
    "- 2<sup>4</sup> = 16\n",
    "- 2<sup>5</sup> = 32\n",
    "- 2<sup>6</sup> = 64\n",
    "- 2<sup>7</sup> = 128\n",
    "- 2<sup>8</sup> = 256"
   ]
  },
  {
   "cell_type": "markdown",
   "metadata": {},
   "source": [
    "Tu reto es completar la función `potencia_de_dos`. Esta función recibe el exponente (el número pequeño al lado del 2) y regresa el resultado de 2 elevado a esa potencia. El detalle es que no puedes usar ningún operador o función que compute exponentes (como `**` o `np.power`), sino que tienes que realizar el cálculo utilizando 1 `bloque if` y 1 `ciclo for`. Completa el código debajo.\n",
    "\n",
    "> **Nota**: Tu función sólo debe computar exponentes positivos, si el exponente es negativo tiene que regresar el valor de `None`"
   ]
  },
  {
   "cell_type": "code",
   "execution_count": 17,
   "metadata": {},
   "outputs": [],
   "source": [
    "def potencia_de_dos(exponente):\n",
    "    \n",
    "    # validar si el exponente es negativo\n",
    "    # validar si el exponente es 0\n",
    "    # Si ya es mayor que 0 entonces calcular la\n",
    "    # potencia con el for.\n",
    "    \n",
    "    resultado = 2\n",
    "            \n",
    "    return resultado"
   ]
  },
  {
   "cell_type": "markdown",
   "metadata": {},
   "source": [
    "Comprueba tu resultado ejecutando la celda inferior ..."
   ]
  },
  {
   "cell_type": "code",
   "execution_count": 18,
   "metadata": {},
   "outputs": [
    {
     "name": "stdout",
     "output_type": "stream",
     "text": [
      "Error computando 2^0 ... Resultado esperado: 1 - Resultado obtenido 2\n",
      "Error computando 2^2 ... Resultado esperado: 4 - Resultado obtenido 2\n",
      "Error computando 2^8 ... Resultado esperado: 256 - Resultado obtenido 2\n",
      "Error computando 2^16 ... Resultado esperado: 65536 - Resultado obtenido 2\n",
      "Error computando 2^-16 ... Resultado esperado: None - Resultado obtenido 2\n",
      "Error computando 2^256 ... Resultado esperado: 0 - Resultado obtenido 2\n"
     ]
    }
   ],
   "source": [
    "def revisar_potencia_de_dos(potencia_de_dos):\n",
    "    \n",
    "    import numpy as np\n",
    "    error = False\n",
    "    \n",
    "    if potencia_de_dos(0) != np.power(2, 0):\n",
    "        print(f'Error computando 2^0 ... Resultado esperado: {np.power(2, 0)} - Resultado obtenido {potencia_de_dos(0)}')\n",
    "        error = True\n",
    "    \n",
    "    if potencia_de_dos(2) != np.power(2, 2):\n",
    "        print(f'Error computando 2^2 ... Resultado esperado: {np.power(2, 2)} - Resultado obtenido {potencia_de_dos(2)}')\n",
    "        error = True\n",
    "    \n",
    "    if potencia_de_dos(8) != np.power(2, 8):\n",
    "        print(f'Error computando 2^8 ... Resultado esperado: {np.power(2, 8)} - Resultado obtenido {potencia_de_dos(8)}')\n",
    "        error = True\n",
    "    \n",
    "    if potencia_de_dos(16) != np.power(2, 16):\n",
    "        print(f'Error computando 2^16 ... Resultado esperado: {np.power(2, 16)} - Resultado obtenido {potencia_de_dos(16)}')\n",
    "        error = True\n",
    "    \n",
    "    if potencia_de_dos(-16) != None:\n",
    "        print(f'Error computando 2^-16 ... Resultado esperado: {None} - Resultado obtenido {potencia_de_dos(16)}')\n",
    "        error = True\n",
    "    \n",
    "    if potencia_de_dos(56) != np.power(2, 56):\n",
    "        print(f'Error computando 2^256 ... Resultado esperado: {np.power(2, 256)} - Resultado obtenido {potencia_de_dos(256)}')\n",
    "        error = True\n",
    "        \n",
    "    if not error:\n",
    "        print(f'La funcion es correcta!')\n",
    "\n",
    "revisar_potencia_de_dos(potencia_de_dos)"
   ]
  }
 ],
 "metadata": {
  "kernelspec": {
   "display_name": "Python 3",
   "language": "python",
   "name": "python3"
  },
  "language_info": {
   "codemirror_mode": {
    "name": "ipython",
    "version": 3
   },
   "file_extension": ".py",
   "mimetype": "text/x-python",
   "name": "python",
   "nbconvert_exporter": "python",
   "pygments_lexer": "ipython3",
   "version": "3.7.4"
  }
 },
 "nbformat": 4,
 "nbformat_minor": 4
}
