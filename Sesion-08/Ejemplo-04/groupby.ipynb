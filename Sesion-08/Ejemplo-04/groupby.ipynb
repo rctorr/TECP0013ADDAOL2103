{
 "cells": [
  {
   "cell_type": "markdown",
   "metadata": {},
   "source": [
    "## Ejemplo 4: Agrupando datos con `groupby`\n",
    "\n",
    "### 1. Objetivos:\n",
    "    - Aprender a usar `group-by` para segmentar nuestros conjuntos de datos y aplicar funciones agregadoras a cada segmento.\n",
    " \n",
    "---\n",
    "    \n",
    "### 2. Desarrollo:"
   ]
  },
  {
   "cell_type": "markdown",
   "metadata": {},
   "source": [
    "#### a) Segmentando datos con `groupby`\n",
    "\n",
    "En nuestro Reto pasado construimos un nuevo conjunto de datos agregando la información de las tablas `occupations` y `age_ranges` a la tabla `users`, pero por si aún no lo has hecho podemos usar el archivo `users-full.csv` en la carpeta Datasets:"
   ]
  },
  {
   "cell_type": "code",
   "execution_count": 2,
   "metadata": {},
   "outputs": [],
   "source": [
    "import pandas as pd"
   ]
  },
  {
   "cell_type": "code",
   "execution_count": 3,
   "metadata": {},
   "outputs": [
    {
     "data": {
      "text/html": [
       "<div>\n",
       "<style scoped>\n",
       "    .dataframe tbody tr th:only-of-type {\n",
       "        vertical-align: middle;\n",
       "    }\n",
       "\n",
       "    .dataframe tbody tr th {\n",
       "        vertical-align: top;\n",
       "    }\n",
       "\n",
       "    .dataframe thead th {\n",
       "        text-align: right;\n",
       "    }\n",
       "</style>\n",
       "<table border=\"1\" class=\"dataframe\">\n",
       "  <thead>\n",
       "    <tr style=\"text-align: right;\">\n",
       "      <th></th>\n",
       "      <th>gender</th>\n",
       "      <th>age</th>\n",
       "      <th>occupation_id</th>\n",
       "      <th>cp</th>\n",
       "      <th>occupation</th>\n",
       "    </tr>\n",
       "  </thead>\n",
       "  <tbody>\n",
       "    <tr>\n",
       "      <th>0</th>\n",
       "      <td>F</td>\n",
       "      <td>1</td>\n",
       "      <td>10</td>\n",
       "      <td>48067</td>\n",
       "      <td>K-12 student</td>\n",
       "    </tr>\n",
       "    <tr>\n",
       "      <th>1</th>\n",
       "      <td>F</td>\n",
       "      <td>1</td>\n",
       "      <td>10</td>\n",
       "      <td>48067</td>\n",
       "      <td>K-12 student</td>\n",
       "    </tr>\n",
       "    <tr>\n",
       "      <th>2</th>\n",
       "      <td>F</td>\n",
       "      <td>1</td>\n",
       "      <td>10</td>\n",
       "      <td>48067</td>\n",
       "      <td>K-12 student</td>\n",
       "    </tr>\n",
       "    <tr>\n",
       "      <th>3</th>\n",
       "      <td>M</td>\n",
       "      <td>1</td>\n",
       "      <td>10</td>\n",
       "      <td>48073</td>\n",
       "      <td>K-12 student</td>\n",
       "    </tr>\n",
       "    <tr>\n",
       "      <th>4</th>\n",
       "      <td>M</td>\n",
       "      <td>1</td>\n",
       "      <td>10</td>\n",
       "      <td>48073</td>\n",
       "      <td>K-12 student</td>\n",
       "    </tr>\n",
       "  </tbody>\n",
       "</table>\n",
       "</div>"
      ],
      "text/plain": [
       "  gender  age  occupation_id     cp    occupation\n",
       "0      F    1             10  48067  K-12 student\n",
       "1      F    1             10  48067  K-12 student\n",
       "2      F    1             10  48067  K-12 student\n",
       "3      M    1             10  48073  K-12 student\n",
       "4      M    1             10  48073  K-12 student"
      ]
     },
     "execution_count": 3,
     "metadata": {},
     "output_type": "execute_result"
    }
   ],
   "source": [
    "users = pd.read_csv(\"../Ejemplo-03/users_full.csv\", index_col=0)\n",
    "\n",
    "users.head()"
   ]
  },
  {
   "cell_type": "markdown",
   "metadata": {},
   "source": [
    "Vamos a ver qué pasa si agrupamos nuestro conjunto usando la columna `gender` y la función `groupby()`:\n",
    "\n",
    "`dataframe.groupby(-columna-)`"
   ]
  },
  {
   "cell_type": "code",
   "execution_count": 4,
   "metadata": {},
   "outputs": [
    {
     "data": {
      "text/plain": [
       "<pandas.core.groupby.generic.DataFrameGroupBy object at 0x7fc5634b5810>"
      ]
     },
     "execution_count": 4,
     "metadata": {},
     "output_type": "execute_result"
    }
   ],
   "source": [
    "users.groupby(\"gender\")"
   ]
  },
  {
   "cell_type": "markdown",
   "metadata": {},
   "source": [
    "Cuando se hace una agrupación y tener un resultado más tangible tenemos que aplicar funciones agregadoras a nuestro objeto `groupby`, por ejemplo podemos usar:\n",
    "\n",
    "`dataframe.groupby(-columna-).size()`"
   ]
  },
  {
   "cell_type": "code",
   "execution_count": 5,
   "metadata": {},
   "outputs": [
    {
     "data": {
      "text/plain": [
       "gender\n",
       "F    15381\n",
       "M    38979\n",
       "dtype: int64"
      ]
     },
     "execution_count": 5,
     "metadata": {},
     "output_type": "execute_result"
    }
   ],
   "source": [
    "users.groupby(\"gender\").size()"
   ]
  },
  {
   "cell_type": "markdown",
   "metadata": {},
   "source": [
    "`size` nos hace un conteo de cuántas muestras hay en cada grupo y regresa el total. Ahora podemos ver entonces que hay 1709 mujeres y 4331 hombres en nuestro dataset."
   ]
  },
  {
   "cell_type": "markdown",
   "metadata": {},
   "source": [
    "También podemos pedir columnas específicas de nuestros grupos y aplicar agregaciones a cada columna de la forma:\n",
    "\n",
    "`dataframe.groupby(-columna-)[-columna segunda clasificación-].value_counts()`\n",
    "\n",
    "entonces ahora veamos por género la cantidad de personas por categoría de ocupaciones:"
   ]
  },
  {
   "cell_type": "code",
   "execution_count": 6,
   "metadata": {},
   "outputs": [
    {
     "data": {
      "text/plain": [
       "gender  occupation             \n",
       "F       college/grad student       2106\n",
       "        academic/educator          1881\n",
       "        other or not specified     1392\n",
       "        executive/managerial       1251\n",
       "        doctor/health care          918\n",
       "        clerical/admin              900\n",
       "        artist                      819\n",
       "        homemaker                   801\n",
       "        sales/marketing             711\n",
       "        writer                      702\n",
       "        other or, not specified     696\n",
       "        K-12 student                594\n",
       "        technician/engineer         468\n",
       "        self-employed               459\n",
       "        programmer                  450\n",
       "        retired                     306\n",
       "        customer service            279\n",
       "        scientist                   252\n",
       "        lawyer                      198\n",
       "        unemployed                  135\n",
       "        tradesman/craftsman          36\n",
       "        farmer                       27\n",
       "M       executive/managerial       4860\n",
       "        college/grad student       4725\n",
       "        technician/engineer        4050\n",
       "        programmer                 3042\n",
       "        other or not specified     2874\n",
       "        academic/educator          2871\n",
       "        sales/marketing            2007\n",
       "        writer                     1827\n",
       "        self-employed              1710\n",
       "        artist                     1584\n",
       "        other or, not specified    1437\n",
       "        doctor/health care         1206\n",
       "        K-12 student               1161\n",
       "        scientist                  1044\n",
       "        retired                     972\n",
       "        lawyer                      963\n",
       "        customer service            729\n",
       "        clerical/admin              657\n",
       "        tradesman/craftsman         594\n",
       "        unemployed                  513\n",
       "        farmer                      126\n",
       "        homemaker                    27\n",
       "Name: occupation, dtype: int64"
      ]
     },
     "execution_count": 6,
     "metadata": {},
     "output_type": "execute_result"
    }
   ],
   "source": [
    "users.groupby(\"gender\")[\"occupation\"].value_counts()"
   ]
  },
  {
   "cell_type": "markdown",
   "metadata": {},
   "source": [
    "Podemos usar dos o más columnas para agrupar también. Lo que sucede es que el dataset se agrupa usando la primer columna, y luego, dentro de cada grupo se hace una segunda agrupación usando la segunda columna, por ejemplo:\n",
    "\n",
    "`dataframe.groupby([-lista de columnas])[-columna-].value_counts()`\n",
    "\n",
    "por ejemplo por `gender` y `age_range`:"
   ]
  },
  {
   "cell_type": "code",
   "execution_count": 11,
   "metadata": {},
   "outputs": [
    {
     "data": {
      "text/plain": [
       "gender  age  occupation             \n",
       "F       1    K-12 student                567\n",
       "             other or not specified       54\n",
       "             other or, not specified      27\n",
       "             artist                       18\n",
       "             unemployed                   18\n",
       "             academic/educator             9\n",
       "             executive/managerial          9\n",
       "        18   college/grad student       1467\n",
       "             other or not specified      192\n",
       "             academic/educator           162\n",
       "             sales/marketing             135\n",
       "             writer                      126\n",
       "             other or, not specified      96\n",
       "             artist                       81\n",
       "             clerical/admin               81\n",
       "             technician/engineer          54\n",
       "             unemployed                   54\n",
       "             customer service             45\n",
       "             homemaker                    45\n",
       "             K-12 student                 27\n",
       "Name: occupation, dtype: int64"
      ]
     },
     "execution_count": 11,
     "metadata": {},
     "output_type": "execute_result"
    }
   ],
   "source": [
    "users.groupby( [\"gender\", \"age\"] )[\"occupation\"].value_counts().head(20)"
   ]
  },
  {
   "cell_type": "markdown",
   "metadata": {},
   "source": [
    "Y que pasa si queremos conocer la cantidad de usuarios por cada rango de edad para cada género podemos usar la forma:\n",
    "\n",
    "`df.groupby(-lista de columnas-).size()`"
   ]
  },
  {
   "cell_type": "code",
   "execution_count": 12,
   "metadata": {},
   "outputs": [
    {
     "data": {
      "text/plain": [
       "gender  age\n",
       "F       1        702\n",
       "        18      2682\n",
       "        25      5022\n",
       "        35      3042\n",
       "        45      1701\n",
       "        50      1314\n",
       "        56       918\n",
       "M       1       1296\n",
       "        18      7245\n",
       "        25     13842\n",
       "        35      7695\n",
       "        45      3249\n",
       "        50      3150\n",
       "        56      2502\n",
       "dtype: int64"
      ]
     },
     "execution_count": 12,
     "metadata": {},
     "output_type": "execute_result"
    }
   ],
   "source": [
    "users.groupby( [\"gender\", \"age\"] ).size()"
   ]
  },
  {
   "cell_type": "markdown",
   "metadata": {},
   "source": [
    "Aquí hemos segmentado nuestro dataset en dos niveles. En el primer nivel, podemos obtener datasets independientes para cada género, primero guardemos el resultado anterior en otra variable:"
   ]
  },
  {
   "cell_type": "code",
   "execution_count": 13,
   "metadata": {},
   "outputs": [
    {
     "data": {
      "text/plain": [
       "gender  age\n",
       "F       1        702\n",
       "        18      2682\n",
       "        25      5022\n",
       "        35      3042\n",
       "        45      1701\n",
       "        50      1314\n",
       "        56       918\n",
       "M       1       1296\n",
       "        18      7245\n",
       "        25     13842\n",
       "        35      7695\n",
       "        45      3249\n",
       "        50      3150\n",
       "        56      2502\n",
       "dtype: int64"
      ]
     },
     "execution_count": 13,
     "metadata": {},
     "output_type": "execute_result"
    }
   ],
   "source": [
    "users_counts = users.groupby( [\"gender\", \"age\"] ).size()\n",
    "\n",
    "users_counts"
   ]
  },
  {
   "cell_type": "markdown",
   "metadata": {},
   "source": [
    "Ahora consultamos el conteo sólo para el género femenino con `df.loc[\"F\"]`, ya que así accedemos al primer nivel:"
   ]
  },
  {
   "cell_type": "code",
   "execution_count": 14,
   "metadata": {},
   "outputs": [
    {
     "data": {
      "text/plain": [
       "age\n",
       "1      702\n",
       "18    2682\n",
       "25    5022\n",
       "35    3042\n",
       "45    1701\n",
       "50    1314\n",
       "56     918\n",
       "dtype: int64"
      ]
     },
     "execution_count": 14,
     "metadata": {},
     "output_type": "execute_result"
    }
   ],
   "source": [
    "users_counts.loc[\"F\"]"
   ]
  },
  {
   "cell_type": "markdown",
   "metadata": {},
   "source": [
    "En un segundo nivel, podemos obtener datasets por cada rango de edades en cada género, por ejemplo cuantos usuarios hay con género femenino y en el rango de 18 a 24 usando `df.loc[-indice 1er nivel-, -índice 2o nivel-]`"
   ]
  },
  {
   "cell_type": "code",
   "execution_count": 15,
   "metadata": {},
   "outputs": [
    {
     "data": {
      "text/plain": [
       "2682"
      ]
     },
     "execution_count": 15,
     "metadata": {},
     "output_type": "execute_result"
    }
   ],
   "source": [
    "users_counts.loc[\"F\", 18]"
   ]
  },
  {
   "cell_type": "markdown",
   "metadata": {},
   "source": [
    "¡Genial!\n",
    "\n",
    "Ahora, no todas las funciones están disponibles para ser aplicadas a objetos `groupby`, hay algunas funciones que no podemos utilizar directamente y que para poder aplicarlas necesitamos usar el método `agg` (aggregations). `agg` recibe una función o una lista de funciones y se las aplica a las columnas solicitadas de cada grupo.\n",
    "\n",
    "Por ejemplo, podemos encontrar la \"moda\" (la categoría que más veces aparece en una columna específica) usando la forma:\n",
    "\n",
    "`df.groupby(-columna-)[-columna-].agg( pd.Series.mode )`\n",
    "\n",
    "en este caso queremos encontrar la ocupación que más realizan los usuarios por género:"
   ]
  },
  {
   "cell_type": "code",
   "execution_count": 16,
   "metadata": {},
   "outputs": [
    {
     "data": {
      "text/plain": [
       "gender\n",
       "F    college/grad student\n",
       "M    executive/managerial\n",
       "Name: occupation, dtype: object"
      ]
     },
     "execution_count": 16,
     "metadata": {},
     "output_type": "execute_result"
    }
   ],
   "source": [
    "users.groupby(\"gender\")[\"occupation\"].agg( pd.Series.mode )"
   ]
  },
  {
   "cell_type": "markdown",
   "metadata": {},
   "source": [
    "Podemos aplicar la función a dos columnas al mismo tiempo usando la forma:\n",
    "\n",
    "`df.groupby(-columna-)[-lista de columnas-].agg( pd.Series.mode )`\n",
    "\n",
    "en este caso queremos encontrar la ocupación que más realizan los usuarios y el rángo de edad donde hay más usuarios agrupado por género:"
   ]
  },
  {
   "cell_type": "code",
   "execution_count": 18,
   "metadata": {},
   "outputs": [
    {
     "data": {
      "text/html": [
       "<div>\n",
       "<style scoped>\n",
       "    .dataframe tbody tr th:only-of-type {\n",
       "        vertical-align: middle;\n",
       "    }\n",
       "\n",
       "    .dataframe tbody tr th {\n",
       "        vertical-align: top;\n",
       "    }\n",
       "\n",
       "    .dataframe thead th {\n",
       "        text-align: right;\n",
       "    }\n",
       "</style>\n",
       "<table border=\"1\" class=\"dataframe\">\n",
       "  <thead>\n",
       "    <tr style=\"text-align: right;\">\n",
       "      <th></th>\n",
       "      <th>occupation</th>\n",
       "      <th>age</th>\n",
       "    </tr>\n",
       "    <tr>\n",
       "      <th>gender</th>\n",
       "      <th></th>\n",
       "      <th></th>\n",
       "    </tr>\n",
       "  </thead>\n",
       "  <tbody>\n",
       "    <tr>\n",
       "      <th>F</th>\n",
       "      <td>college/grad student</td>\n",
       "      <td>25</td>\n",
       "    </tr>\n",
       "    <tr>\n",
       "      <th>M</th>\n",
       "      <td>executive/managerial</td>\n",
       "      <td>25</td>\n",
       "    </tr>\n",
       "  </tbody>\n",
       "</table>\n",
       "</div>"
      ],
      "text/plain": [
       "                  occupation  age\n",
       "gender                           \n",
       "F       college/grad student   25\n",
       "M       executive/managerial   25"
      ]
     },
     "execution_count": 18,
     "metadata": {},
     "output_type": "execute_result"
    }
   ],
   "source": [
    "users.groupby(\"gender\")[ [\"occupation\", \"age\"] ].agg( pd.Series.mode )"
   ]
  },
  {
   "cell_type": "markdown",
   "metadata": {},
   "source": [
    "Y también podemos aplicar varias funciones al mismo tiempo pasándole a `agg` una lista de funciones. En este caso vamos a usar algunos análisis estadísticos a la columna `age_id`. En realidad estos análisis no van a ser precisos porque esta columna contiene ids que representan rangos de edades, no edades como tal. Pero considéralo un simple ejemplo para ver cómo funcionan las herramientas:"
   ]
  },
  {
   "cell_type": "code",
   "execution_count": 20,
   "metadata": {},
   "outputs": [
    {
     "data": {
      "text/html": [
       "<div>\n",
       "<style scoped>\n",
       "    .dataframe tbody tr th:only-of-type {\n",
       "        vertical-align: middle;\n",
       "    }\n",
       "\n",
       "    .dataframe tbody tr th {\n",
       "        vertical-align: top;\n",
       "    }\n",
       "\n",
       "    .dataframe thead th {\n",
       "        text-align: right;\n",
       "    }\n",
       "</style>\n",
       "<table border=\"1\" class=\"dataframe\">\n",
       "  <thead>\n",
       "    <tr style=\"text-align: right;\">\n",
       "      <th></th>\n",
       "      <th>mean</th>\n",
       "      <th>median</th>\n",
       "      <th>std</th>\n",
       "    </tr>\n",
       "    <tr>\n",
       "      <th>gender</th>\n",
       "      <th></th>\n",
       "      <th></th>\n",
       "      <th></th>\n",
       "    </tr>\n",
       "  </thead>\n",
       "  <tbody>\n",
       "    <tr>\n",
       "      <th>F</th>\n",
       "      <td>30.859567</td>\n",
       "      <td>25</td>\n",
       "      <td>13.239120</td>\n",
       "    </tr>\n",
       "    <tr>\n",
       "      <th>M</th>\n",
       "      <td>30.552297</td>\n",
       "      <td>25</td>\n",
       "      <td>12.755801</td>\n",
       "    </tr>\n",
       "  </tbody>\n",
       "</table>\n",
       "</div>"
      ],
      "text/plain": [
       "             mean  median        std\n",
       "gender                              \n",
       "F       30.859567      25  13.239120\n",
       "M       30.552297      25  12.755801"
      ]
     },
     "execution_count": 20,
     "metadata": {},
     "output_type": "execute_result"
    }
   ],
   "source": [
    "users.groupby('gender')['age'].agg(['mean', 'median', 'std'])"
   ]
  },
  {
   "cell_type": "markdown",
   "metadata": {},
   "source": [
    "Ahora si, los retos son todos tuyos!"
   ]
  },
  {
   "cell_type": "code",
   "execution_count": null,
   "metadata": {},
   "outputs": [],
   "source": []
  }
 ],
 "metadata": {
  "kernelspec": {
   "display_name": "Python 3",
   "language": "python",
   "name": "python3"
  },
  "language_info": {
   "codemirror_mode": {
    "name": "ipython",
    "version": 3
   },
   "file_extension": ".py",
   "mimetype": "text/x-python",
   "name": "python",
   "nbconvert_exporter": "python",
   "pygments_lexer": "ipython3",
   "version": "3.7.4"
  }
 },
 "nbformat": 4,
 "nbformat_minor": 4
}
