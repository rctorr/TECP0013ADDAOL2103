{
 "cells": [
  {
   "cell_type": "markdown",
   "metadata": {},
   "source": [
    "## Ejemplo 1: Conectándose a una base de datos\n",
    "\n",
    "### 1. Objetivos:\n",
    "    - Usar un conector de python para conectarse a una base de datos.\n",
    " \n",
    "### 2. Desarrollo:"
   ]
  },
  {
   "cell_type": "markdown",
   "metadata": {},
   "source": [
    "#### a) Realizar una conexión y obtener un índice o cursor\n",
    "\n",
    "Para conectarnos necesitamos primero importar el módulo o paquete para la base de datos en particular, en este caso SQLite3 y el módulo se llama `sqlite3`, así que importamos el módulo:"
   ]
  },
  {
   "cell_type": "code",
   "execution_count": 1,
   "metadata": {},
   "outputs": [],
   "source": [
    "import sqlite3"
   ]
  },
  {
   "cell_type": "markdown",
   "metadata": {},
   "source": [
    "Para una conexión a SQLite necesitamos saber el nombre del archivo de la base de datos, algo como `mi_datos.sqlite3`.\n",
    "\n",
    "Para una conexión MySQL, Postgres, Oracle u otras necesitamos conocer las siguiente información:\n",
    "\n",
    "1. Host (localhost, 127.0.0.1, servidor.dominio.com)\n",
    "2. Puerto (3306 u otro)\n",
    "3. Usuario (fulanito)\n",
    "4. Contraseña (tiamida)\n",
    "5. Nombre de la base de datos (camino_al_exito)\n",
    "\n",
    "Todos esos datos los usamos para crear una conexión usando para ello la siguiente función del módulo `sqlite3`:\n",
    "\n",
    "`sqlite3.connect(-nombre de la base de datos-)`\n",
    "\n",
    "entonces vamos a realizar una conexión a la base de datos SQLite3 llamada `movielens.sqlite3`:"
   ]
  },
  {
   "cell_type": "code",
   "execution_count": 2,
   "metadata": {},
   "outputs": [
    {
     "data": {
      "text/plain": [
       "<sqlite3.Connection at 0x7f219f9c7e30>"
      ]
     },
     "execution_count": 2,
     "metadata": {},
     "output_type": "execute_result"
    }
   ],
   "source": [
    "conn = sqlite3.connect(\"../../Datasets/MovieLens/movielens.sqlite3\")\n",
    "\n",
    "conn"
   ]
  },
  {
   "cell_type": "markdown",
   "metadata": {},
   "source": [
    "Ahora, para poder realizar modificaciones o consultas a nuestra base de datos, tenemos que crear un objeto llamado índice o `cursor` usando:\n",
    "\n",
    "`mi_conexion.cursor()`"
   ]
  },
  {
   "cell_type": "code",
   "execution_count": 3,
   "metadata": {},
   "outputs": [
    {
     "data": {
      "text/plain": [
       "<sqlite3.Cursor at 0x7f218737e3b0>"
      ]
     },
     "execution_count": 3,
     "metadata": {},
     "output_type": "execute_result"
    }
   ],
   "source": [
    "cur = conn.cursor()\n",
    "\n",
    "cur"
   ]
  },
  {
   "cell_type": "markdown",
   "metadata": {},
   "source": [
    "Éste objeto lo podemos usar para realizar cualquier consulta en lenguaje SQL. Por ejemplo, veamos qué tablas existen en nuestra base de datos ejecutando consultas SQL usando:\n",
    "\n",
    "`mi_cursor.execute(-sql-)`\n",
    "\n",
    "Nota: En el caso de SQLite3, para obtener la lista de tablas se puede hacer uso de la instrucción SQL:\n",
    "\n",
    "`SELECT name FROM sqlite_master WHERE type='table';`\n",
    "\n",
    "en el caso de MariaDB o MySQL se podría usar:\n",
    "\n",
    "`SHOW TABLES;`\n",
    "\n",
    "entonces ejecutemos la instrucción:"
   ]
  },
  {
   "cell_type": "code",
   "execution_count": 4,
   "metadata": {},
   "outputs": [
    {
     "data": {
      "text/plain": [
       "<sqlite3.Cursor at 0x7f218737e3b0>"
      ]
     },
     "execution_count": 4,
     "metadata": {},
     "output_type": "execute_result"
    }
   ],
   "source": [
    "cur.execute(\"SELECT name FROM sqlite_master WHERE type='table'\")"
   ]
  },
  {
   "cell_type": "markdown",
   "metadata": {},
   "source": [
    "Después de ejecutar el comando, tenemos que extraer la información con la función:\n",
    "\n",
    "`mi_cursor.fetch()` o\n",
    "`mi_cursor.fetchall()`"
   ]
  },
  {
   "cell_type": "code",
   "execution_count": 5,
   "metadata": {},
   "outputs": [
    {
     "data": {
      "text/plain": [
       "[('occupations',), ('ratings',), ('users',), ('age_ranges',), ('movies',)]"
      ]
     },
     "execution_count": 5,
     "metadata": {},
     "output_type": "execute_result"
    }
   ],
   "source": [
    "resultados = cur.fetchall()\n",
    "\n",
    "resultados"
   ]
  },
  {
   "cell_type": "markdown",
   "metadata": {},
   "source": [
    "Listo, ahora sabemos que tenemos 5 tablas en nuestra base de datos!"
   ]
  },
  {
   "cell_type": "markdown",
   "metadata": {},
   "source": [
    "Por último, es importante cerrar nuestro `cursor` y conexión a la base de datos para no utilizar memoria extra en nuestra computadora:\n",
    "\n",
    "`mi_cursor.close()` y\n",
    "`mi_conexion.close()`"
   ]
  },
  {
   "cell_type": "code",
   "execution_count": 6,
   "metadata": {},
   "outputs": [],
   "source": [
    "cur.close()"
   ]
  },
  {
   "cell_type": "code",
   "execution_count": 7,
   "metadata": {},
   "outputs": [],
   "source": [
    "conn.close()"
   ]
  }
 ],
 "metadata": {
  "kernelspec": {
   "display_name": "Python 3",
   "language": "python",
   "name": "python3"
  },
  "language_info": {
   "codemirror_mode": {
    "name": "ipython",
    "version": 3
   },
   "file_extension": ".py",
   "mimetype": "text/x-python",
   "name": "python",
   "nbconvert_exporter": "python",
   "pygments_lexer": "ipython3",
   "version": "3.7.4"
  }
 },
 "nbformat": 4,
 "nbformat_minor": 4
}
